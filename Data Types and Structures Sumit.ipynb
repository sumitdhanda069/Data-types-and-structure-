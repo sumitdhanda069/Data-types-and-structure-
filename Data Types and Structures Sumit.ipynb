{
 "cells": [
  {
   "cell_type": "markdown",
   "id": "7ccbe665-40da-42be-81c2-93558b1f4809",
   "metadata": {},
   "source": [
    "## Data Types and Structures Questions"
   ]
  },
  {
   "cell_type": "markdown",
   "id": "a959125a-cb87-482b-b382-80f0c1ee65fa",
   "metadata": {},
   "source": [
    "## Theory"
   ]
  },
  {
   "cell_type": "markdown",
   "id": "23d296b6-fe47-4739-a7fa-92a92275d65e",
   "metadata": {},
   "source": [
    "### 1. What are data structures and why are they important ?\n",
    " - Data structures are ways of organizing and stroing data in a computer so that it can be accessed and manupulated effeciently.Some example of date structures are string , list , set , dictionary , tuples , array .\n",
    " - They make data access and operations (like search, insert, delete) faster. Help keep code clean and manageable, Essential for solving many programming and algorithmic problems and also Algorithm Support ."
   ]
  },
  {
   "cell_type": "markdown",
   "id": "1392f651-e419-4ac7-97c4-fc75d552100a",
   "metadata": {},
   "source": [
    "### 2. Explain the difference between mutable and immutable data types with examples .\n",
    " - Mutable can be canged easily after creation , you can add , remove or modify elements easily in same object . Some examples of mutable date types are list , set , dictionary .\n",
    " - But immutable data types can't be changed after creation and you can't add add , remove or modify elements easily in same object. Some examples of immutable data types are string , tuple , int , float ."
   ]
  },
  {
   "cell_type": "markdown",
   "id": "a0d04236-3cae-4204-868c-255d54893cfe",
   "metadata": {},
   "source": [
    "### 3. What are the main differences between lists and tuples in Python ?\n",
    " - Lists are mutable but tuples are immutable.\n",
    " - we use [] to create list but for tuple we use () .\n",
    " - Tuples are generally faster than lists because they are immutable and use less memory."
   ]
  },
  {
   "cell_type": "markdown",
   "id": "b7875b23-c04a-4e4f-8b3c-c49fe5c6bec5",
   "metadata": {},
   "source": [
    "### 4. Describe how dictionaries store data .\n",
    " - In Python, a dictionary is a built-in data structure that stores data in the form of key-value pairs. Each key is used to uniquely identify a value, allowing for fast and efficient access to data. it is defiend as using {} and each key followed by a colon."
   ]
  },
  {
   "cell_type": "markdown",
   "id": "1da93732-524e-4142-be97-6fbe3b3c8f36",
   "metadata": {},
   "source": [
    "### 5. Why might you use a set instead of a list in Python ?\n",
    " - One of the main reasons to use a set instead of a list is to ensure data uniqueness. When working with data where duplicates are not allowed such as a collection of unique usernames or IDs a set automatically removes duplicate values, which saves time and effort."
   ]
  },
  {
   "cell_type": "markdown",
   "id": "31123c1b-f245-49a2-9454-a18ebc83bd01",
   "metadata": {},
   "source": [
    "### 6. What is a string in Python and how is it different from list ?\n",
    " - Strings are immutable, while lists are mutable.\n",
    " - Strings contain only characters, while lists can contain elements of any data type.\n",
    " - Strings are defined using quotes, whereas lists are defined using square brackets.\n",
    " - Strings are primarily used for textual data, while lists are used for general-purpose data storage and manipulation"
   ]
  },
  {
   "cell_type": "markdown",
   "id": "af303d48-df21-4793-9235-3518621a6a48",
   "metadata": {},
   "source": [
    "### 7. How do tuples ensure data integrity in Python ?\n",
    " - Tuples is immutable so it is remain same after creation , can't be modified . Data integrity refers to the accuracy and consistency of data over its lifecycle. By using tuples, programmers can protect data from accidental changes. Since tuples do not allow modification, they are ideal for storing constant or fixed data that should not be altered during the execution of a program."
   ]
  },
  {
   "cell_type": "markdown",
   "id": "4a2c7ce2-66e5-4a81-bbb2-d78e9df56070",
   "metadata": {
    "jp-MarkdownHeadingCollapsed": true
   },
   "source": [
    "### 8. What is hash table and how does it relate to dictionaries in Pyhthon ?\n",
    " - A hash table is a data structure that stores data in an associative manner. It uses a technique called hashing, where a key is converted into an index of an array using a hash function.\n",
    " - Each key-value pair in a dictionary is stored based on the hash of the key. When we access a value using a key, Python internally computes the hash of the key to find the index where the value is stored."
   ]
  },
  {
   "cell_type": "markdown",
   "id": "43f4b915-1d25-4d9a-8463-d2675c555bf6",
   "metadata": {},
   "source": [
    "### 9. Can lists contain different data types in Python ?\n",
    " - Yes , Python lists is heterogeneous , it cotain different data types like int , strng , complex , float etc."
   ]
  },
  {
   "cell_type": "markdown",
   "id": "0642c7c6-3901-450d-945b-4f269a908342",
   "metadata": {},
   "source": [
    "### 10. Explain why strings are immutable in Python ?\n",
    " - The primary reason strings are immutable in Python is because they are implemented as sequences of Unicode characters that are stored in memory as fixed, read-only data. When a string is created, Python allocates a fixed block of memory for it. Allowing in-place modifications would require copying or shifting data, which would make strings slower and more complex to manage.\n",
    " - Strings are implemented as immutable for performance, simplicity, and correctness in the design of the Python interpreter."
   ]
  },
  {
   "cell_type": "markdown",
   "id": "876ae66c-780b-482a-9a01-6353cbcfaa63",
   "metadata": {},
   "source": [
    "### 11. What advantages do dictionaries offer over lists for certain task ?\n",
    " - While lists store items in a linear, ordered sequence using numeric indexes, dictionaries store data as key-value pairs, enabling faster and more meaningful data access.\n",
    " - no need to remember index position in dictionary"
   ]
  },
  {
   "cell_type": "markdown",
   "id": "3081d39c-3831-4672-b242-28aac78e0117",
   "metadata": {},
   "source": [
    "### 12. Describe a scenario where using a tuple would be preferable over a list .\n",
    " - A tuple is preferable over a list when the data should remain constant, such as storing coordinates, RGB color values, or days of the week.\n",
    " - Scenario: Representing Days of the Week ;- \n",
    "In many applications, you may need to store the days of the week as a fixed sequence of values. Since the names of the days do not change, a tuple is the ideal data structure for this purpose ."
   ]
  },
  {
   "cell_type": "markdown",
   "id": "9eddfd82-1637-47fe-ace3-fc29de7e36a6",
   "metadata": {},
   "source": [
    "### 13. How do sets handle duplicate values in Python ?\n",
    " - In Python, a set is an unordered collection of unique elements. When elements are added to a set, Python checks if the element already exists in the set.If the element is not present, it is added.\n",
    "If the element already exists, the set ignores the duplicate and does not add it again."
   ]
  },
  {
   "cell_type": "markdown",
   "id": "d56f08a9-315b-4f9f-94ce-46e83de6c4e4",
   "metadata": {},
   "source": [
    "### 14. How does the \"in\" keyword work differently for lists and dictionaries ?\n",
    " - Using in with Lists:\n",
    "When using in with a list, Python checks whether the specified value is present anywhere in the list.This requires Python to search sequentially through the list items until it finds a match or reaches the end.This operation has a linear time complexity, meaning the time to check increases with the size of the list.\n",
    " - Using in with Dictionaries: When using in with a dictionary, Python checks whether the specified key exists in the dictionary.Dictionaries are implemented as hash tables, so key lookup is very fast, typically constant time.Importantly, in checks only keys, not values, in dictionaries."
   ]
  },
  {
   "cell_type": "markdown",
   "id": "db1d4884-c01f-45bb-b7cf-c6174cbb7522",
   "metadata": {},
   "source": [
    "### 15. Can you modify the elements of a tuple ? Explain why or why not .\n",
    " - Tuples are immutable, which means that once a tuple is created, its elements cannot be changed, added, or removed. Therefore, you cannot modify the elements of a tuple.\n",
    " - When a tuple is created, Python allocates a fixed block of memory for it. Allowing modifications would require resizing or copying, which contradicts the concept of immutability."
   ]
  },
  {
   "cell_type": "markdown",
   "id": "2476816a-3e59-4b95-8603-36ac0767998a",
   "metadata": {},
   "source": [
    "### 16. What is nested dictionaries and give me an example of its use case ?\n",
    " - A nested dictionary in Python is a dictionary where the values themselves are dictionaries. This allows you to represent complex, hierarchical data structures in a clear and organized way.\n",
    " - use case : Storing Product Information in an Online Store ;\n",
    "Suppose you are building an e-commerce application, and you need to store detailed information about products. Each product has attributes like price, stock, and details such as brand and category."
   ]
  },
  {
   "cell_type": "markdown",
   "id": "56dc3678-5652-4a07-936a-d13ac5bba504",
   "metadata": {},
   "source": [
    "### 17. Describe the time complexity of accessing elements in a dictionary .\n",
    " - In Python, a dictionary is an unordered collection of key-value pairs implemented using a hash table .Accessing elements in a dictionary by key is generally very efficient, with an average-case time complexity of O(1) due to Python’s underlying hash table implementation. This efficiency makes dictionaries ideal for fast lookups and large-scale data management."
   ]
  },
  {
   "cell_type": "markdown",
   "id": "28b85b6e-43bf-4290-b60b-466687abd581",
   "metadata": {},
   "source": [
    "### 18. In what situations are lists preffered over dictionaries ?\n",
    " - Lists are preferred in situations where order, indexing, or simple collections of items are needed, especially when keys are not required. They are ideal for handling sequential data, performing positional operations, or when duplicate items are needed."
   ]
  },
  {
   "cell_type": "markdown",
   "id": "07c7d0f4-c3dd-4532-bcc6-c14d5518c38f",
   "metadata": {},
   "source": [
    "### 19. why are dictionaries considered unordered and how does that affect data retrieval ?\n",
    " - dictionaries were considered unordered collections, which means they did not maintain the order in which items were added.\n",
    "Dictionaries were originally considered unordered because their internal structure was based on hashing, not the sequence of insertion. Although modern versions of Python preserve insertion order, dictionaries are still designed for fast key-based access, not position-based operations.This makes them powerful for lookups but less suited for tasks where the sequence of data is important.\n",
    " - Dictionaries use keys, not positions, to retrieve data.You cannot access items by index like in a list (my_dict[0] is invalid).The order of items doesn’t affect key-based access you still get the correct value for a given key.In Python versions before 3.7, the order of items when looping through a dictionary was not predictable."
   ]
  },
  {
   "cell_type": "markdown",
   "id": "93def2f8-de46-495f-81d6-b41bb22cecee",
   "metadata": {},
   "source": [
    "### 20. Explain the difference between a list and a dictionary in terms of data retrieval .\n",
    " - \n",
    "A list stores items in a specific, ordered sequence. Data in a list is accessed using index numbers, which represent the position of an item. For example, my_list[2] retrieves the third item in the list. This makes lists ideal when the order of data matters, or when you need to perform operations based on item positions. it is slower\n",
    " - In contrast, a dictionary stores data as key-value pairs, and retrieval is done using keys instead of positions. For example, my_dict[\"name\"] retrieves the value associated with the key \"name\". This allows for faster and more direct access, especially when working with labeled data.\n",
    " - lists use index-based retrieval, while dictionaries use key-based retrieval."
   ]
  },
  {
   "cell_type": "markdown",
   "id": "56edfe37-7442-4c67-a363-837057f604ab",
   "metadata": {},
   "source": [
    "## Practical"
   ]
  },
  {
   "cell_type": "markdown",
   "id": "b5297915-6b6c-4c40-8772-16fc9c7e24b3",
   "metadata": {},
   "source": [
    "### 1. write a code to create a string with your name and print it ."
   ]
  },
  {
   "cell_type": "code",
   "execution_count": 5,
   "id": "1d9025d3-27cb-459b-9847-10b802e3da72",
   "metadata": {},
   "outputs": [
    {
     "name": "stdout",
     "output_type": "stream",
     "text": [
      "my name is papai\n"
     ]
    }
   ],
   "source": [
    "name = (\"my name is papai\")\n",
    "print (name)"
   ]
  },
  {
   "cell_type": "markdown",
   "id": "f9bcfe6e-e8ec-4937-b118-1d59335c059b",
   "metadata": {},
   "source": [
    "### 2. write a code to find the length of the string \"Hello World\" . "
   ]
  },
  {
   "cell_type": "code",
   "execution_count": 11,
   "id": "d80f5d22-c1c0-4fda-afed-0fd6b1147ca3",
   "metadata": {},
   "outputs": [
    {
     "data": {
      "text/plain": [
       "11"
      ]
     },
     "execution_count": 11,
     "metadata": {},
     "output_type": "execute_result"
    }
   ],
   "source": [
    "a = (\"Hello World\")\n",
    "len(a)"
   ]
  },
  {
   "cell_type": "markdown",
   "id": "d9dd492c-0820-456e-a02d-b7dd3ad028d9",
   "metadata": {},
   "source": [
    "### 3. write a code to slice the first 3 characters from the string \"Python Programming\" ."
   ]
  },
  {
   "cell_type": "code",
   "execution_count": 12,
   "id": "41f8d7e6-16ce-4385-bfc4-72888f78ba46",
   "metadata": {},
   "outputs": [
    {
     "name": "stdout",
     "output_type": "stream",
     "text": [
      "Pyt\n"
     ]
    }
   ],
   "source": [
    "text = \"Python Programming\"\n",
    "sliced = text[:3]\n",
    "print(sliced)"
   ]
  },
  {
   "cell_type": "markdown",
   "id": "ab2a2f1b-f1bb-4f7e-85b2-76e8ebf17e3f",
   "metadata": {},
   "source": [
    "### 4. write a code to convert the string \"hello\" to uppercase ."
   ]
  },
  {
   "cell_type": "code",
   "execution_count": 14,
   "id": "c0b1e8f5-3f73-4ecd-b061-eaec0c6178db",
   "metadata": {},
   "outputs": [
    {
     "name": "stdout",
     "output_type": "stream",
     "text": [
      "HELLO\n"
     ]
    }
   ],
   "source": [
    "text = \"hello\"\n",
    "uppercase_text = text.upper()\n",
    "print(uppercase_text)"
   ]
  },
  {
   "cell_type": "markdown",
   "id": "e4f3c63e-b121-4a66-87a6-aa75da8edb61",
   "metadata": {},
   "source": [
    "### 5. write a code to replace the word \"apple\" with \"orange\" in the string \" i like apple \" ."
   ]
  },
  {
   "cell_type": "code",
   "execution_count": 15,
   "id": "cfc0cf2c-53b6-4965-b42c-7c43b0430966",
   "metadata": {},
   "outputs": [
    {
     "name": "stdout",
     "output_type": "stream",
     "text": [
      "i like orange\n"
     ]
    }
   ],
   "source": [
    "text = \"i like apple\"\n",
    "new_text = text.replace(\"apple\", \"orange\")\n",
    "print(new_text)"
   ]
  },
  {
   "cell_type": "markdown",
   "id": "2199a3f7-56ba-4fd6-85e3-c6009d103714",
   "metadata": {},
   "source": [
    "### 6. write a code to create a list with numbers 1 to 5 and print it ."
   ]
  },
  {
   "cell_type": "code",
   "execution_count": 17,
   "id": "395efaa0-128a-439a-8825-2b66a8a19d81",
   "metadata": {},
   "outputs": [
    {
     "name": "stdout",
     "output_type": "stream",
     "text": [
      "[1, 2, 3, 4, 5]\n"
     ]
    }
   ],
   "source": [
    "list_count = [1,2,3,4,5]\n",
    "print(list_count)"
   ]
  },
  {
   "cell_type": "markdown",
   "id": "bcc28443-8e99-4219-af06-6871f1884ba7",
   "metadata": {},
   "source": [
    "### 7. write a code to append the number 10 to the list [1,2,3,4] ."
   ]
  },
  {
   "cell_type": "code",
   "execution_count": 58,
   "id": "2c818bfd-2b36-459c-947b-e3694ecff210",
   "metadata": {},
   "outputs": [
    {
     "name": "stdout",
     "output_type": "stream",
     "text": [
      "[1, 2, 3, 4, 10]\n"
     ]
    }
   ],
   "source": [
    "numbers = [1,2,3,4]\n",
    "numbers.append(10)\n",
    "print(numbers)"
   ]
  },
  {
   "cell_type": "markdown",
   "id": "df5a0804-cf80-4ef1-b7c4-3702f32121fc",
   "metadata": {},
   "source": [
    "### 8. write a code to remove the number 3 from the list [1,2,3,4,5] ."
   ]
  },
  {
   "cell_type": "code",
   "execution_count": 59,
   "id": "b762f2ac-34b6-4686-8276-8b968c7c2925",
   "metadata": {},
   "outputs": [
    {
     "name": "stdout",
     "output_type": "stream",
     "text": [
      "[1, 2, 4, 5]\n"
     ]
    }
   ],
   "source": [
    "numbers = [1,2,3,4,5]\n",
    "numbers.remove(3)\n",
    "print(numbers)"
   ]
  },
  {
   "cell_type": "markdown",
   "id": "9aaab5dd-bbab-4d2b-bc05-99b3f98518c4",
   "metadata": {},
   "source": [
    "### 9. write a code to access the second element in the list ['a','b','c','d'] ."
   ]
  },
  {
   "cell_type": "code",
   "execution_count": 60,
   "id": "54562b10-726c-457b-a105-6bc579a0dcb1",
   "metadata": {},
   "outputs": [
    {
     "data": {
      "text/plain": [
       "'b'"
      ]
     },
     "execution_count": 60,
     "metadata": {},
     "output_type": "execute_result"
    }
   ],
   "source": [
    "_list = [ 'a','b','c','d']\n",
    "_list[1]"
   ]
  },
  {
   "cell_type": "markdown",
   "id": "fc0fc84e-8fee-4247-8ea0-cee2edd81434",
   "metadata": {},
   "source": [
    "### 10. write a code to reverse the list [10, 20, 30, 40, 50]"
   ]
  },
  {
   "cell_type": "code",
   "execution_count": 61,
   "id": "dd2b15c1-08ea-4537-9c87-7f6bb5cffc77",
   "metadata": {},
   "outputs": [
    {
     "name": "stdout",
     "output_type": "stream",
     "text": [
      "[50, 40, 30, 20, 10]\n"
     ]
    }
   ],
   "source": [
    "num = [10,20,30,40,50]\n",
    "num.reverse()\n",
    "print(num)"
   ]
  },
  {
   "cell_type": "markdown",
   "id": "9c525cba-0125-4720-a02c-74903387644b",
   "metadata": {},
   "source": [
    "### 11. write a code to create a tuple with the elements 100, 200, 300 and print it ."
   ]
  },
  {
   "cell_type": "code",
   "execution_count": 62,
   "id": "87568bb4-9214-46bb-aa0d-e99cd1c0a0ac",
   "metadata": {},
   "outputs": [
    {
     "name": "stdout",
     "output_type": "stream",
     "text": [
      "(100, 200, 300)\n"
     ]
    }
   ],
   "source": [
    "my_tuple = (100, 200, 300 )\n",
    "print(my_tuple)"
   ]
  },
  {
   "cell_type": "markdown",
   "id": "1dac05ff-2507-4fdd-8d81-ca73e38a6f5f",
   "metadata": {},
   "source": [
    "### 12. write a code to access the second-to-last element of the tuple ( 'red', 'green','blue','yellow') ."
   ]
  },
  {
   "cell_type": "code",
   "execution_count": 63,
   "id": "d7262fd5-c802-4919-a858-c9b3a733be95",
   "metadata": {},
   "outputs": [
    {
     "data": {
      "text/plain": [
       "'blue'"
      ]
     },
     "execution_count": 63,
     "metadata": {},
     "output_type": "execute_result"
    }
   ],
   "source": [
    "colour = ('red','green','blue','yellow' )\n",
    "colour[-2]"
   ]
  },
  {
   "cell_type": "markdown",
   "id": "ba1a5f6e-f4c6-48c5-a87c-9403ef999b33",
   "metadata": {},
   "source": [
    "### 13. write a code to find the minimum number in the tuple (10,20,5,15) ."
   ]
  },
  {
   "cell_type": "code",
   "execution_count": 64,
   "id": "060c5100-4bd3-49fb-867e-4be53c30b48a",
   "metadata": {},
   "outputs": [
    {
     "name": "stdout",
     "output_type": "stream",
     "text": [
      "5\n"
     ]
    }
   ],
   "source": [
    "num = (10,20,5,15)\n",
    "minimum = min(num)\n",
    "print(minimum)"
   ]
  },
  {
   "cell_type": "markdown",
   "id": "8b31fd54-928b-4d23-bf0e-6bf170cffd52",
   "metadata": {},
   "source": [
    "### 14. write a code to find the index of the element \"cat\" in the tuple ('dog','cat','rabbit')."
   ]
  },
  {
   "cell_type": "code",
   "execution_count": 65,
   "id": "60175b07-e263-400e-b628-60df0ab214e4",
   "metadata": {},
   "outputs": [
    {
     "name": "stdout",
     "output_type": "stream",
     "text": [
      "1\n"
     ]
    }
   ],
   "source": [
    "animal = ('dog','cat','rabbit')\n",
    "index = animal.index('cat')\n",
    "print(index)"
   ]
  },
  {
   "cell_type": "markdown",
   "id": "deb961e1-450b-409f-b4c4-2e2dc34b3fbb",
   "metadata": {},
   "source": [
    "### 15. write a code to create a tuple containing three different fruits and chek if \"kiwi\" is in it ."
   ]
  },
  {
   "cell_type": "code",
   "execution_count": 66,
   "id": "ac7f369a-f4ee-4eef-8147-54051969cd7e",
   "metadata": {},
   "outputs": [
    {
     "data": {
      "text/plain": [
       "False"
      ]
     },
     "execution_count": 66,
     "metadata": {},
     "output_type": "execute_result"
    }
   ],
   "source": [
    "fruit = (\"mango\",\"apple\",\"banana\")\n",
    "\"kiwi\" in fruit"
   ]
  },
  {
   "cell_type": "markdown",
   "id": "c98ce175-7134-4a10-8f86-de8d727c6a5b",
   "metadata": {},
   "source": [
    "### 16. write a code to create a set with the elements 'a','b','c' and print it ."
   ]
  },
  {
   "cell_type": "code",
   "execution_count": 67,
   "id": "eaa3043d-db66-4ce5-b8eb-343a6b158a05",
   "metadata": {},
   "outputs": [
    {
     "name": "stdout",
     "output_type": "stream",
     "text": [
      "{'b', 'a', 'c'}\n"
     ]
    }
   ],
   "source": [
    "my_set = {'a','b','c'}\n",
    "print(my_set)"
   ]
  },
  {
   "cell_type": "markdown",
   "id": "1c03ca36-1693-41f1-a6ed-81e2f543045b",
   "metadata": {},
   "source": [
    "### 17. write a code to clear all elements from the set {1,2,3,4,5} ."
   ]
  },
  {
   "cell_type": "code",
   "execution_count": 68,
   "id": "e539a76d-de70-412e-98ca-53f1ab484afe",
   "metadata": {},
   "outputs": [
    {
     "name": "stdout",
     "output_type": "stream",
     "text": [
      "set()\n"
     ]
    }
   ],
   "source": [
    "my_set = {1,2,3,4,5}\n",
    "my_set.clear()\n",
    "print(my_set)"
   ]
  },
  {
   "cell_type": "markdown",
   "id": "e24d9dde-6baa-4ca7-a693-2230ba107830",
   "metadata": {},
   "source": [
    "### 18. write a code to remove the element 4 from the set {1,2,3,4} ."
   ]
  },
  {
   "cell_type": "code",
   "execution_count": 69,
   "id": "2608bc46-6a5c-47be-ba25-25315fa0d9c5",
   "metadata": {},
   "outputs": [
    {
     "name": "stdout",
     "output_type": "stream",
     "text": [
      "{1, 2, 3}\n"
     ]
    }
   ],
   "source": [
    "my_set = {1,2,3,4}\n",
    "my_set.remove(4)\n",
    "print(my_set)"
   ]
  },
  {
   "cell_type": "markdown",
   "id": "34768f64-2657-4277-9d01-fae4b9848ede",
   "metadata": {},
   "source": [
    "### 19. write a code to find the union of two sets {1,2,3} and {3,4,5} ."
   ]
  },
  {
   "cell_type": "code",
   "execution_count": 70,
   "id": "57e5c610-978e-4a60-aa0d-b37006c8e0d6",
   "metadata": {},
   "outputs": [
    {
     "name": "stdout",
     "output_type": "stream",
     "text": [
      "{1, 2, 3, 4, 5}\n"
     ]
    }
   ],
   "source": [
    "set1 = {1, 2, 3}\n",
    "set2 = {3, 4, 5}\n",
    "union_set = set1.union(set2)\n",
    "print(union_set)"
   ]
  },
  {
   "cell_type": "markdown",
   "id": "7e356c9f-ea9d-406a-ae95-1530ffe7577b",
   "metadata": {},
   "source": [
    "### 20. write a code to find the intersection of two sets {1,2,3] and {2,3,4} ."
   ]
  },
  {
   "cell_type": "code",
   "execution_count": 71,
   "id": "14bf96d3-596d-472d-93f3-9ba376ba763f",
   "metadata": {},
   "outputs": [
    {
     "name": "stdout",
     "output_type": "stream",
     "text": [
      "{2, 3}\n"
     ]
    }
   ],
   "source": [
    "set1 = {1,2,3}\n",
    "set2 = {2,3,4}\n",
    "inter_set = set1.intersection(set2)\n",
    "print(inter_set)"
   ]
  },
  {
   "cell_type": "markdown",
   "id": "d219825d-9aab-45c2-81c9-23cb4ae38928",
   "metadata": {},
   "source": [
    "### 21. write a code to create a dictionary with the keys \"name\" , \"age\" and \"city\" , and print it  ."
   ]
  },
  {
   "cell_type": "code",
   "execution_count": 73,
   "id": "358f7e01-d882-49a7-9599-745b67432e20",
   "metadata": {},
   "outputs": [
    {
     "name": "stdout",
     "output_type": "stream",
     "text": [
      "{'name': 'Papai', 'age': 24, 'city': 'Malda'}\n"
     ]
    }
   ],
   "source": [
    "dictionary = {\"name\":\"Papai\", \"age\":24,\"city\":\"Malda\"}\n",
    "print(dictionary)"
   ]
  },
  {
   "cell_type": "markdown",
   "id": "a7a02296-343f-41b9-a514-661516e4118c",
   "metadata": {},
   "source": [
    "### 22. write a code to add a new key-value pair \"country\":\"USA\" to the dictionary {'name':'John','age':25} ."
   ]
  },
  {
   "cell_type": "code",
   "execution_count": 80,
   "id": "5262685d-89bb-4862-b975-93b6b2f50c2f",
   "metadata": {},
   "outputs": [
    {
     "name": "stdout",
     "output_type": "stream",
     "text": [
      "{'name': 'John', 'age': 25, 'country': 'USA'}\n"
     ]
    }
   ],
   "source": [
    "person = {'name': 'John', 'age': 25}\n",
    "person['country'] = 'USA'\n",
    "print(person)"
   ]
  },
  {
   "cell_type": "markdown",
   "id": "d8c31344-339d-4492-b389-16e53ccc1cc7",
   "metadata": {},
   "source": [
    "### 23. write a code to access the value associated with the key \"name\" in the dictionary {'name':'Alice','age':30} ."
   ]
  },
  {
   "cell_type": "code",
   "execution_count": 81,
   "id": "6ac5af9f-f21f-44f7-962c-b069f986f202",
   "metadata": {},
   "outputs": [
    {
     "data": {
      "text/plain": [
       "'Alice'"
      ]
     },
     "execution_count": 81,
     "metadata": {},
     "output_type": "execute_result"
    }
   ],
   "source": [
    "person = {'name':'Alice','age':30}\n",
    "person['name']"
   ]
  },
  {
   "cell_type": "markdown",
   "id": "b944aa28-4cb8-419d-80dd-74d7cd898184",
   "metadata": {},
   "source": [
    "### 24. write a code to remove the key \"age\" from the dictionary {'name': 'Bob','age':22,'city':'New York'} ."
   ]
  },
  {
   "cell_type": "code",
   "execution_count": 101,
   "id": "8abb87d1-a9da-4c62-b5c7-d645be46bb92",
   "metadata": {},
   "outputs": [
    {
     "name": "stdout",
     "output_type": "stream",
     "text": [
      "{'name': 'Bob', 'city': 'New York'}\n"
     ]
    }
   ],
   "source": [
    "person = {'name': 'Bob','age':22,'city':'New York'}\n",
    "del person['age']\n",
    "print(person)"
   ]
  },
  {
   "cell_type": "markdown",
   "id": "5fae2476-d388-40f1-a0f7-0f730bd41215",
   "metadata": {},
   "source": [
    "### 25. write a code to check if the key \"city\" exists in the dictionary {'name':'Alice', 'city':'Paris'} . "
   ]
  },
  {
   "cell_type": "code",
   "execution_count": 100,
   "id": "8cefb753-37a0-459e-a4e3-4b5928ac99a1",
   "metadata": {},
   "outputs": [
    {
     "data": {
      "text/plain": [
       "True"
      ]
     },
     "execution_count": 100,
     "metadata": {},
     "output_type": "execute_result"
    }
   ],
   "source": [
    "person = {'name':'Alice', 'city':'Paris'}\n",
    "'city' in person"
   ]
  },
  {
   "cell_type": "markdown",
   "id": "73bc1fd7-c240-4508-ba3a-34e35c41d3b3",
   "metadata": {},
   "source": [
    "### 26. write a code to create a list , a tuple and a dictionary and print them all ."
   ]
  },
  {
   "cell_type": "code",
   "execution_count": 86,
   "id": "ff331876-331f-4c01-9128-3bf609f5e631",
   "metadata": {},
   "outputs": [
    {
     "name": "stdout",
     "output_type": "stream",
     "text": [
      "List: [1, 2, 3, 4, 5]\n",
      "Tuple: ('apple', 'banana', 'cherry')\n",
      "Dictionary: {'name': 'Ravi', 'age': 28, 'city': 'Mumbai'}\n"
     ]
    }
   ],
   "source": [
    "# Creating a list\n",
    "my_list = [1, 2, 3, 4, 5]\n",
    "\n",
    "# Creating a tuple\n",
    "my_tuple = ('apple', 'banana', 'cherry')\n",
    "\n",
    "# Creating a dictionary\n",
    "my_dict = {'name': 'Ravi', 'age': 28, 'city': 'Mumbai'}\n",
    "\n",
    "# Printing all collections\n",
    "print(\"List:\", my_list)\n",
    "print(\"Tuple:\", my_tuple)\n",
    "print(\"Dictionary:\", my_dict)\n"
   ]
  },
  {
   "cell_type": "markdown",
   "id": "cafc89d2-6e7c-4141-b04a-b5f96fa140a6",
   "metadata": {},
   "source": [
    "### 27. write a code to create a list of 5 random numbers between 1 and 100 , sort it in ascending order and print the result . (replaced)"
   ]
  },
  {
   "cell_type": "code",
   "execution_count": 96,
   "id": "0f8bc587-7662-4850-b821-69671e2ff65a",
   "metadata": {},
   "outputs": [
    {
     "name": "stdout",
     "output_type": "stream",
     "text": [
      "Sorted list: [1, 63, 67, 82, 100]\n"
     ]
    }
   ],
   "source": [
    "import random\n",
    "\n",
    "# Create a list of 5 random numbers between 1 and 100\n",
    "random_numbers = [random.randint(1, 100) for _ in range(5)]\n",
    "\n",
    "# Sort the list in ascending order\n",
    "random_numbers.sort()\n",
    "\n",
    "# Print the sorted list\n",
    "print(\"Sorted list:\", random_numbers)\n"
   ]
  },
  {
   "cell_type": "markdown",
   "id": "b249c237-1331-47fb-b3a2-cc51361fb595",
   "metadata": {},
   "source": [
    "### 28. write a code to create a list with strings and print the element at the third index ."
   ]
  },
  {
   "cell_type": "code",
   "execution_count": 97,
   "id": "30e15ef3-87bf-48df-97f1-2a555f627c86",
   "metadata": {},
   "outputs": [
    {
     "name": "stdout",
     "output_type": "stream",
     "text": [
      "mango\n"
     ]
    }
   ],
   "source": [
    "fruits = ['apple', 'banana', 'cherry', 'mango', 'orange']\n",
    "print(fruits[3])"
   ]
  },
  {
   "cell_type": "markdown",
   "id": "60b3be26-9510-44d1-a171-bf933f84ab5e",
   "metadata": {},
   "source": [
    "### 29. write a code to combine two dictionaries into one and print the result ."
   ]
  },
  {
   "cell_type": "code",
   "execution_count": 98,
   "id": "126fd82c-fbea-417c-85f5-bc538444b021",
   "metadata": {},
   "outputs": [
    {
     "name": "stdout",
     "output_type": "stream",
     "text": [
      "{'name': 'Alice', 'age': 25, 'city': 'Paris', 'country': 'France'}\n"
     ]
    }
   ],
   "source": [
    "dict1 = {'name': 'Alice', 'age': 25}\n",
    "dict2 = {'city': 'Paris', 'country': 'France'}\n",
    "dict1.update(dict2)\n",
    "print(dict1)"
   ]
  },
  {
   "cell_type": "markdown",
   "id": "180cd575-0ae2-413c-9a86-c1c244232614",
   "metadata": {},
   "source": [
    "### 30. write a code to convert a list of strings into a set ."
   ]
  },
  {
   "cell_type": "code",
   "execution_count": 99,
   "id": "c47c328b-2fc0-4869-b70d-03ba3fb4dac1",
   "metadata": {},
   "outputs": [
    {
     "data": {
      "text/plain": [
       "{'apple', 'banana', 'cherry', 'mango', 'orange'}"
      ]
     },
     "execution_count": 99,
     "metadata": {},
     "output_type": "execute_result"
    }
   ],
   "source": [
    "my_list = ['apple', 'banana', 'cherry', 'mango', 'orange']\n",
    "set(my_list)"
   ]
  }
 ],
 "metadata": {
  "kernelspec": {
   "display_name": "Python 3 (ipykernel)",
   "language": "python",
   "name": "python3"
  },
  "language_info": {
   "codemirror_mode": {
    "name": "ipython",
    "version": 3
   },
   "file_extension": ".py",
   "mimetype": "text/x-python",
   "name": "python",
   "nbconvert_exporter": "python",
   "pygments_lexer": "ipython3",
   "version": "3.13.3"
  }
 },
 "nbformat": 4,
 "nbformat_minor": 5
}
